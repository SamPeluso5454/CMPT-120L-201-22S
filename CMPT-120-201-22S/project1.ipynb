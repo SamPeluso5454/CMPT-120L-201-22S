{
 "cells": [
  {
   "cell_type": "code",
   "execution_count": 133,
   "metadata": {},
   "outputs": [
    {
     "ename": "KeyboardInterrupt",
     "evalue": "",
     "output_type": "error",
     "traceback": [
      "\u001b[0;31m---------------------------------------------------------------------------\u001b[0m",
      "\u001b[0;31mKeyboardInterrupt\u001b[0m                         Traceback (most recent call last)",
      "\u001b[1;32m/Users/sampeluso/Documents/GitHub/CMPT-120L-201-22S/CMPT-120-201-22S/project1.ipynb Cell 1'\u001b[0m in \u001b[0;36m<module>\u001b[0;34m\u001b[0m\n\u001b[1;32m     <a href='vscode-notebook-cell:/Users/sampeluso/Documents/GitHub/CMPT-120L-201-22S/CMPT-120-201-22S/project1.ipynb#ch0000000?line=72'>73</a>\u001b[0m player(playerX, playerY)\n\u001b[1;32m     <a href='vscode-notebook-cell:/Users/sampeluso/Documents/GitHub/CMPT-120L-201-22S/CMPT-120-201-22S/project1.ipynb#ch0000000?line=73'>74</a>\u001b[0m enemy(enemy1X, enemy1Y) \n\u001b[0;32m---> <a href='vscode-notebook-cell:/Users/sampeluso/Documents/GitHub/CMPT-120L-201-22S/CMPT-120-201-22S/project1.ipynb#ch0000000?line=74'>75</a>\u001b[0m pygame\u001b[39m.\u001b[39;49mdisplay\u001b[39m.\u001b[39;49mupdate()\n",
      "\u001b[0;31mKeyboardInterrupt\u001b[0m: "
     ]
    }
   ],
   "source": [
    "import pygame\n",
    "import random\n",
    "\n",
    "# pygame \n",
    "pygame.init()\n",
    "\n",
    "# screen\n",
    "screen = pygame.display.set_mode ((800,600))\n",
    "\n",
    "#Title and Icon\n",
    "pygame.display.set_caption(\"Spaceship Shooter\")\n",
    "icon = pygame.image.load('spaceship.png')\n",
    "pygame.display.set_icon(icon)\n",
    "\n",
    "# Player\n",
    "playerImg = pygame.image.load('spaceship-3.png')\n",
    "playerX = 370\n",
    "playerY = 480\n",
    "PlayerX_change = 0\n",
    "\n",
    "# Enemy 1\n",
    "enemy1Img = pygame.image.load('enemy1.png')\n",
    "enemy1X = random.randint(0, 800)\n",
    "enemy1Y = random.randint(50, 150) \n",
    "enemy1X_change = 0.3\n",
    "enemy1Y_change = 40\n",
    "\n",
    "\n",
    "def player(x,y):\n",
    "    screen.blit(playerImg, (x, y)) \n",
    "\n",
    "def enemy(x,y):\n",
    "    screen.blit(enemy1Img, (x, y))\n",
    "\n",
    "\n",
    "# Game Loop\n",
    "running = True\n",
    "while running:\n",
    "\n",
    "    #RGB - Red, Green, Blue\n",
    "    screen.fill((0, 0, 0 ,)) \n",
    "\n",
    "    for event in pygame.event.get():\n",
    "        if event.type == pygame.QUIT:\n",
    "            running = False \n",
    "    \n",
    "        #arrow keys to move left and right\n",
    "        if event.type == pygame.KEYDOWN: \n",
    "            if event.key == pygame.K_LEFT: \n",
    "                playerX_change = -4\n",
    "            if event.key == pygame.K_RIGHT:\n",
    "                playerX_change = 4\n",
    "        if event.type == pygame.KEYUP:\n",
    "            if event.key == pygame.K_LEFT or event.key == pygame.K_RIGHT:\n",
    "                playerX_change = 0\n",
    "\n",
    "# player bounderies\n",
    "    playerX += playerX_change \n",
    "    if playerX <= 0:\n",
    "        playerX = 0\n",
    "    elif playerX >= 736:\n",
    "        playerX = 736\n",
    "\n",
    "#enemy movement\n",
    "    enemy1X += enemy1X_change \n",
    "    if enemy1X <= 0:\n",
    "        enemy1X_change = 0.3\n",
    "        enemy1Y += enemy1Y_change\n",
    "    elif enemy1X >= 736:\n",
    "        enemy1X = -0.3\n",
    "\n",
    "\n",
    "    player(playerX, playerY)\n",
    "    enemy(enemy1X, enemy1Y) \n",
    "    pygame.display.update()\n",
    "\n",
    "\n"
   ]
  }
 ],
 "metadata": {
  "interpreter": {
   "hash": "3d597f4c481aa0f25dceb95d2a0067e73c0966dcbd003d741d821a7208527ecf"
  },
  "kernelspec": {
   "display_name": "Python 3.9.5 ('base')",
   "language": "python",
   "name": "python3"
  },
  "language_info": {
   "codemirror_mode": {
    "name": "ipython",
    "version": 3
   },
   "file_extension": ".py",
   "mimetype": "text/x-python",
   "name": "python",
   "nbconvert_exporter": "python",
   "pygments_lexer": "ipython3",
   "version": "3.9.5"
  },
  "orig_nbformat": 4
 },
 "nbformat": 4,
 "nbformat_minor": 2
}
